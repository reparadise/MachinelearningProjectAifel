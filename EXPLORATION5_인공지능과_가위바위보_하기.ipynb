{
  "cells": [
    {
      "cell_type": "markdown",
      "metadata": {
        "id": "view-in-github",
        "colab_type": "text"
      },
      "source": [
        "<a href=\"https://colab.research.google.com/github/reparadise/MachinelearningProjectAifel/blob/main/EXPLORATION5_%EC%9D%B8%EA%B3%B5%EC%A7%80%EB%8A%A5%EA%B3%BC_%EA%B0%80%EC%9C%84%EB%B0%94%EC%9C%84%EB%B3%B4_%ED%95%98%EA%B8%B0.ipynb\" target=\"_parent\"><img src=\"https://colab.research.google.com/assets/colab-badge.svg\" alt=\"Open In Colab\"/></a>"
      ]
    },
    {
      "cell_type": "markdown",
      "metadata": {
        "id": "F46oyVjwijSY"
      },
      "source": [
        "# EXPLORATION 5. 인공지능과 가위바위보 하기"
      ]
    },
    {
      "cell_type": "markdown",
      "metadata": {
        "id": "IIR19JnxijSz"
      },
      "source": [
        "---"
      ]
    },
    {
      "cell_type": "markdown",
      "metadata": {
        "id": "7_-U8UbGijS0"
      },
      "source": [
        "##  Dataset"
      ]
    },
    {
      "cell_type": "markdown",
      "metadata": {
        "id": "gms8kHpvijS1"
      },
      "source": [
        "### Data 만들기"
      ]
    },
    {
      "cell_type": "markdown",
      "metadata": {
        "id": "xm-l5OzHijS3"
      },
      "source": [
        "teachable machine 사이트에서 데이터를 만들어 냅니다."
      ]
    },
    {
      "cell_type": "markdown",
      "metadata": {
        "id": "9ck3ZViqijS4"
      },
      "source": [
        "[teachablemachine](https://teachablemachine.withgoogle.com/)"
      ]
    },
    {
      "cell_type": "markdown",
      "metadata": {
        "id": "DhlivV0qijS6"
      },
      "source": [
        "### Resize 하기"
      ]
    },
    {
      "cell_type": "code",
      "source": [
        "from google.colab import drive\n",
        "drive.mount('/content/drive')"
      ],
      "metadata": {
        "colab": {
          "base_uri": "https://localhost:8080/"
        },
        "id": "AIbGuNLvI2cq",
        "outputId": "a8194f6e-5d0d-428a-ff6a-121902c8d32d"
      },
      "execution_count": 3,
      "outputs": [
        {
          "output_type": "stream",
          "name": "stdout",
          "text": [
            "Mounted at /content/drive\n"
          ]
        }
      ]
    },
    {
      "cell_type": "code",
      "execution_count": 6,
      "metadata": {
        "id": "7C2kEcYYijS8",
        "outputId": "57ea826f-717c-4954-afaf-3fb7c8120ae9",
        "colab": {
          "base_uri": "https://localhost:8080/"
        }
      },
      "outputs": [
        {
          "output_type": "stream",
          "name": "stdout",
          "text": [
            "이미지 디렉토리 경로:  /root/content/drive/MyDrive/Colab Notebooks/Data/data/sissors\n",
            "가위 이미지 resize 완료!\n",
            "이미지 디렉토리 경로:  /root/content/drive/MyDrive/Colab Notebooks/Data/data/sissors\n",
            "바위 이미지 resize 완료!\n",
            "이미지 디렉토리 경로:  /root/content/drive/MyDrive/Colab Notebooks/Data/data/sissors\n",
            "보 이미지 resize 완료!\n"
          ]
        }
      ],
      "source": [
        "from PIL import Image\n",
        "import os, glob\n",
        "# 가위 이미지가 저장된 디렉토리 아래의 모든 jpg 파일을 읽어들여서\n",
        "image_dir_path = os.getenv(\"HOME\") + \"/content/drive/MyDrive/Colab Notebooks/Data/data/sissors\"\n",
        "print(\"이미지 디렉토리 경로: \", image_dir_path)\n",
        "\n",
        "images=glob.glob(image_dir_path + \"/*.jpg\")  \n",
        "\n",
        "# 파일마다 모두 28x28 사이즈로 바꾸어 저장합니다.\n",
        "target_size=(28,28)\n",
        "for img in images:\n",
        "    old_img=Image.open(img)\n",
        "    new_img=old_img.resize(target_size,Image.ANTIALIAS)\n",
        "    new_img.save(img,\"JPEG\")\n",
        "\n",
        "print(\"가위 이미지 resize 완료!\")\n",
        "\n",
        "\n",
        "# 바위 이미지가 저장된 디렉토리 아래의 모든 jpg 파일을 읽어들여서\n",
        "# [[YOUR CODE]]\n",
        "rock_dir_path = os.getenv(\"HOME\") + \"/content/drive/MyDrive/Colab Notebooks/Data/data/rocks\"\n",
        "rock_images = glob.glob(rock_dir_path + \"/*.jpg\")\n",
        "# 파일마다 모두 28x28 사이즈로 바꾸어 저장합니다.\n",
        "\n",
        "target_size=(28,28)\n",
        "for img in rock_images:\n",
        "    old_img = Image.open(img)\n",
        "    new_img = old_img.resize(target_size, Image.ANTIALIAS)\n",
        "    new_img.save(img, \"JPEG\")\n",
        "\n",
        "\n",
        "print(\"바위 이미지 resize 완료!\")\n",
        "\n",
        "\n",
        "# 보 이미지가 저장된 디렉토리 아래의 모든 jpg 파일을 읽어들여서\n",
        "# [[YOUR CODE]]\n",
        "paper_dir_path = os.getenv(\"HOME\") + \"/content/drive/MyDrive/Colab Notebooks/Data/data/papers\"\n",
        "paper_images = glob.glob(paper_dir_path + \"/*.jpg\")\n",
        "# 파일마다 모두 28x28 사이즈로 바꾸어 저장합니다.\n",
        "# [[YOUR CODE]]\n",
        "target_size = (28,28)\n",
        "for img in paper_images:\n",
        "    old_img = Image.open(img)\n",
        "    new_img = old_img.resize(target_size, Image.ANTIALIAS)\n",
        "    new_img.save(img, \"JPEG\")\n",
        "    \n",
        "print(\"보 이미지 resize 완료!\")"
      ]
    },
    {
      "cell_type": "code",
      "source": [
        "\n",
        "import matplotlib.pyplot as plt"
      ],
      "metadata": {
        "id": "FclNLqVWOmhg"
      },
      "execution_count": 13,
      "outputs": []
    },
    {
      "cell_type": "markdown",
      "metadata": {
        "id": "Gu61Jed3ijTC"
      },
      "source": [
        "### Data 불러오기"
      ]
    },
    {
      "cell_type": "code",
      "execution_count": 7,
      "metadata": {
        "id": "mk6zBGA7ijTD",
        "outputId": "a174f793-324c-4050-eb95-d3dfd498d3c1",
        "colab": {
          "base_uri": "https://localhost:8080/"
        }
      },
      "outputs": [
        {
          "output_type": "stream",
          "name": "stdout",
          "text": [
            "학습데이터(x_train)의 이미지 개수는 0 입니다.\n",
            "x_train shape: (6600, 28, 28, 3)\n",
            "y_train shape: (6600,)\n"
          ]
        }
      ],
      "source": [
        "import numpy as np\n",
        "def load_data(img_path):\n",
        "    # 가위 : 0, 바위 : 1, 보 : 2\n",
        "    number_of_data=6600   # 가위바위보 이미지 개수 총합에 주의하세요.\n",
        "    img_size=28\n",
        "    color=3\n",
        "    #이미지 데이터와 라벨(가위 : 0, 바위 : 1, 보 : 2) 데이터를 담을 행렬(matrix) 영역을 생성합니다.\n",
        "    imgs=np.zeros(number_of_data*img_size*img_size*color, dtype=np.int32).reshape(number_of_data, img_size, img_size, color)\n",
        "    labels=np.zeros(number_of_data, dtype=np.int32)\n",
        "\n",
        "    idx=0\n",
        "    for file in glob.iglob(img_path+'/scissor/*.jpg'):\n",
        "        img = np.array(Image.open(file), dtype=np.int32)\n",
        "        imgs[idx,:,:,:]=img    # 데이터 영역에 이미지 행렬을 복사\n",
        "        labels[idx]=0   # 가위 : 0\n",
        "        idx=idx+1\n",
        "\n",
        "    for file in glob.iglob(img_path+'/rock/*.jpg'):\n",
        "        img = np.array(Image.open(file),dtype=np.int32)\n",
        "        imgs[idx,:,:,:]=img    # 데이터 영역에 이미지 행렬을 복사\n",
        "        labels[idx]=1   # 바위 : 1\n",
        "        idx=idx+1       \n",
        "    \n",
        "    for file in glob.iglob(img_path+'/paper/*.jpg'):\n",
        "        img = np.array(Image.open(file),dtype=np.int32)\n",
        "        imgs[idx,:,:,:]=img    # 데이터 영역에 이미지 행렬을 복사\n",
        "        labels[idx]=2   # 보 : 2\n",
        "        idx=idx+1\n",
        "        \n",
        "    print(\"학습데이터(x_train)의 이미지 개수는\",idx,\"입니다.\")\n",
        "    return imgs, labels\n",
        "\n",
        "image_dir_path = os.getenv(\"HOME\") + \"/aiffel/rock_scissor_paper\"\n",
        "(x_train, y_train)=load_data(image_dir_path)\n",
        "x_train_norm = x_train/255.0   # 입력은 0~1 사이의 값으로 정규화\n",
        "\n",
        "print(\"x_train shape: {}\".format(x_train.shape))\n",
        "print(\"y_train shape: {}\".format(y_train.shape))"
      ]
    },
    {
      "cell_type": "code",
      "source": [
        ""
      ],
      "metadata": {
        "id": "waFAWNqFO0uE"
      },
      "execution_count": null,
      "outputs": []
    },
    {
      "cell_type": "markdown",
      "metadata": {
        "id": "sgGJXnRTijTF"
      },
      "source": [
        "## Model"
      ]
    },
    {
      "cell_type": "markdown",
      "metadata": {
        "id": "wkedPhJTijTG"
      },
      "source": [
        "### model 설계하기"
      ]
    },
    {
      "cell_type": "code",
      "execution_count": 8,
      "metadata": {
        "id": "emhS1qVmijTH",
        "outputId": "a0ee48bd-39a6-4c1f-b6c7-a7e0655e69ac",
        "colab": {
          "base_uri": "https://localhost:8080/"
        }
      },
      "outputs": [
        {
          "output_type": "stream",
          "name": "stdout",
          "text": [
            "Model: \"sequential\"\n",
            "_________________________________________________________________\n",
            " Layer (type)                Output Shape              Param #   \n",
            "=================================================================\n",
            " conv2d (Conv2D)             (None, 26, 26, 64)        1792      \n",
            "                                                                 \n",
            " max_pooling2d (MaxPooling2D  (None, 13, 13, 64)       0         \n",
            " )                                                               \n",
            "                                                                 \n",
            " conv2d_1 (Conv2D)           (None, 11, 11, 128)       73856     \n",
            "                                                                 \n",
            " max_pooling2d_1 (MaxPooling  (None, 5, 5, 128)        0         \n",
            " 2D)                                                             \n",
            "                                                                 \n",
            " flatten (Flatten)           (None, 3200)              0         \n",
            "                                                                 \n",
            " dense (Dense)               (None, 64)                204864    \n",
            "                                                                 \n",
            " dense_1 (Dense)             (None, 3)                 195       \n",
            "                                                                 \n",
            "=================================================================\n",
            "Total params: 280,707\n",
            "Trainable params: 280,707\n",
            "Non-trainable params: 0\n",
            "_________________________________________________________________\n"
          ]
        }
      ],
      "source": [
        "import tensorflow as tf\n",
        "from tensorflow import keras\n",
        "import numpy as np\n",
        "\n",
        "model = keras.models.Sequential()\n",
        "model.add(keras.layers.Conv2D(64, (3,3), activation='relu', input_shape=(28,28,3)))\n",
        "model.add(keras.layers.MaxPool2D(2,2))\n",
        "model.add(keras.layers.Conv2D(128, (3,3), activation='relu'))\n",
        "model.add(keras.layers.MaxPool2D(2,2))\n",
        "model.add(keras.layers.Flatten())\n",
        "model.add(keras.layers.Dense(64, activation='relu'))\n",
        "model.add(keras.layers.Dense(3, activation='softmax'))\n",
        "\n",
        "\n",
        "model.summary()"
      ]
    },
    {
      "cell_type": "markdown",
      "metadata": {
        "id": "O6008Ej8ijTI"
      },
      "source": [
        "### 모델 학습하기"
      ]
    },
    {
      "cell_type": "code",
      "execution_count": 9,
      "metadata": {
        "id": "1zzyuBSJijTJ",
        "outputId": "9547ec1d-73ea-4c1c-91da-222859aaf191",
        "colab": {
          "base_uri": "https://localhost:8080/"
        }
      },
      "outputs": [
        {
          "output_type": "stream",
          "name": "stdout",
          "text": [
            "Epoch 1/10\n",
            "207/207 [==============================] - 15s 70ms/step - loss: 0.9705 - accuracy: 1.0000\n",
            "Epoch 2/10\n",
            "207/207 [==============================] - 14s 69ms/step - loss: 0.7489 - accuracy: 1.0000\n",
            "Epoch 3/10\n",
            "207/207 [==============================] - 14s 69ms/step - loss: 0.5784 - accuracy: 1.0000\n",
            "Epoch 4/10\n",
            "207/207 [==============================] - 14s 69ms/step - loss: 0.4502 - accuracy: 1.0000\n",
            "Epoch 5/10\n",
            "207/207 [==============================] - 14s 69ms/step - loss: 0.3545 - accuracy: 1.0000\n",
            "Epoch 6/10\n",
            "207/207 [==============================] - 14s 69ms/step - loss: 0.2829 - accuracy: 1.0000\n",
            "Epoch 7/10\n",
            "207/207 [==============================] - 16s 78ms/step - loss: 0.2288 - accuracy: 1.0000\n",
            "Epoch 8/10\n",
            "207/207 [==============================] - 14s 69ms/step - loss: 0.1875 - accuracy: 1.0000\n",
            "Epoch 9/10\n",
            "207/207 [==============================] - 14s 69ms/step - loss: 0.1555 - accuracy: 1.0000\n",
            "Epoch 10/10\n",
            "207/207 [==============================] - 14s 69ms/step - loss: 0.1302 - accuracy: 1.0000\n"
          ]
        },
        {
          "output_type": "execute_result",
          "data": {
            "text/plain": [
              "<keras.callbacks.History at 0x7f9bf5900550>"
            ]
          },
          "metadata": {},
          "execution_count": 9
        }
      ],
      "source": [
        "# model을 학습시키는 코드를 직접 작성해 보세요.\n",
        "# Hint! model.compile()과 model.fit()을 사용해 봅시다.\n",
        "# [[YOUR CODE]]\n",
        "model.compile(optimizer='adam',\n",
        "             loss='sparse_categorical_crossentropy',\n",
        "             metrics=['accuracy'])\n",
        "\n",
        "# 모델 훈련\n",
        "model.fit(x_train_norm, y_train , epochs=10)"
      ]
    },
    {
      "cell_type": "markdown",
      "metadata": {
        "id": "UB_x0dBbijTL"
      },
      "source": [
        "### Test data 불러오기"
      ]
    },
    {
      "cell_type": "code",
      "execution_count": 15,
      "metadata": {
        "id": "j9jjfpm_ijTL"
      },
      "outputs": [],
      "source": [
        "# x_test, y_test를 만드는 방법은 x_train, y_train을 만드는 방법과 아주 유사합니다.\n",
        "# [[YOUR CODE]]\n",
        "def load_test(img_path):\n",
        "    # 가위 : 0, 바위 : 1, 보 : 2\n",
        "    number_of_data=900   # 가위바위보 이미지 개수 총합에 주의하세요.\n",
        "    img_size=28\n",
        "    color=3\n",
        "    #이미지 데이터와 라벨(가위 : 0, 바위 : 1, 보 : 2) 데이터를 담을 행렬(matrix) 영역을 생성합니다.\n",
        "    imgs=np.zeros(number_of_data*img_size*img_size*color, dtype=np.int32).reshape(number_of_data, img_size, img_size, color)\n",
        "    labels=np.zeros(number_of_data, dtype=np.int32)\n",
        "\n",
        "    idx=0\n",
        "    for file in glob.iglob(img_path+'/scissor/*.jpg'):\n",
        "        img = np.array(Image.open(file), dtype=np.int32)\n",
        "        imgs[idx,:,:,:]=img    # 데이터 영역에 이미지 행렬을 복사\n",
        "        labels[idx]=0   # 가위 : 0\n",
        "        idx=idx+1\n",
        "\n",
        "    for file in glob.iglob(img_path+'/rock/*.jpg'):\n",
        "        img = np.array(Image.open(file),dtype=np.int32)\n",
        "        imgs[idx,:,:,:]=img    # 데이터 영역에 이미지 행렬을 복사\n",
        "        labels[idx]=1   # 바위 : 1\n",
        "        idx=idx+1       \n",
        "    \n",
        "    for file in glob.iglob(img_path+'/paper/*.jpg'):\n",
        "        img = np.array(Image.open(file),dtype=np.int32)\n",
        "        imgs[idx,:,:,:]=img    # 데이터 영역에 이미지 행렬을 복사\n",
        "        labels[idx]=2   # 보 : 2\n",
        "        idx=idx+1\n",
        "        \n",
        "    return imgs, labels"
      ]
    },
    {
      "cell_type": "code",
      "execution_count": 16,
      "metadata": {
        "id": "WkrFXSauijTN",
        "outputId": "411977e2-f4f9-448a-b6f0-47bb5352d1df",
        "colab": {
          "base_uri": "https://localhost:8080/"
        }
      },
      "outputs": [
        {
          "output_type": "stream",
          "name": "stdout",
          "text": [
            "/root/aiffel/rock_scissor_paper/test\n",
            "가위 이미지 resize 완료!\n",
            "바위 이미지 resize 완료!\n",
            "바위 이미지 resize 완료!\n",
            "(900, 28, 28, 3)\n"
          ]
        }
      ],
      "source": [
        "test_image_dir_path = os.getenv(\"HOME\") + \"/aiffel/rock_scissor_paper/test\"\n",
        "print(test_image_dir_path)\n",
        "\n",
        "# scissor\n",
        "t_s_images=glob.glob(test_image_dir_path + \"/scissor/*.jpg\")  \n",
        "target_size=(28,28)\n",
        "for img in t_s_images:\n",
        "    old_img=Image.open(img)\n",
        "    new_img=old_img.resize(target_size,Image.ANTIALIAS)\n",
        "    new_img.save(img,\"JPEG\")\n",
        "\n",
        "print(\"가위 이미지 resize 완료!\")\n",
        "\n",
        "# rock\n",
        "t_r_images=glob.glob(test_image_dir_path + \"/rock/*.jpg\")  \n",
        "target_size=(28,28)\n",
        "for img in t_r_images:\n",
        "    old_img = Image.open(img)\n",
        "    new_img = old_img.resize(target_size, Image.ANTIALIAS)\n",
        "    new_img.save(img, \"JPEG\")\n",
        " \n",
        "print(\"바위 이미지 resize 완료!\")\n",
        "\n",
        "# paper\n",
        "t_p_images=glob.glob(test_image_dir_path + \"/paper/*.jpg\")  \n",
        "target_size=(28,28)\n",
        "for img in t_p_images:\n",
        "    old_img = Image.open(img)\n",
        "    new_img = old_img.resize(target_size, Image.ANTIALIAS)\n",
        "    new_img.save(img, \"JPEG\")\n",
        " \n",
        "print(\"바위 이미지 resize 완료!\")\n",
        "\n",
        "\n",
        "(x_test, y_test)=load_test(test_image_dir_path)\n",
        "x_test_norm = x_test/255.0\n",
        "\n",
        "print(x_test.shape)"
      ]
    },
    {
      "cell_type": "markdown",
      "metadata": {
        "id": "E9y1awdmijTO"
      },
      "source": [
        "### Model Test 하기"
      ]
    },
    {
      "cell_type": "code",
      "execution_count": 17,
      "metadata": {
        "id": "p0GznxriijTP",
        "outputId": "61c8d494-97c8-453b-dee9-fab5c814e23d",
        "colab": {
          "base_uri": "https://localhost:8080/"
        }
      },
      "outputs": [
        {
          "output_type": "stream",
          "name": "stdout",
          "text": [
            "29/29 - 1s - loss: 0.1194 - accuracy: 1.0000 - 630ms/epoch - 22ms/step\n",
            "test_loss: 0.11937019973993301 \n",
            "test_accuracy: 1.0\n"
          ]
        }
      ],
      "source": [
        "# model을 학습시키는 코드\n",
        "#model.evaluate()\n",
        "\n",
        "test_loss, test_accuracy = model.evaluate(x_test_norm, y_test, verbose=2)\n",
        "print(\"test_loss: {} \".format(test_loss))\n",
        "print(\"test_accuracy: {}\".format(test_accuracy))"
      ]
    },
    {
      "cell_type": "markdown",
      "metadata": {
        "id": "2waesLHBijTl"
      },
      "source": [
        "## Report"
      ]
    },
    {
      "cell_type": "markdown",
      "metadata": {
        "id": "GpdXQcBqijTl"
      },
      "source": [
        "### 초기 데이터셋"
      ]
    },
    {
      "cell_type": "markdown",
      "metadata": {
        "id": "1WiPNPIwijTm"
      },
      "source": [
        ""
      ]
    },
    {
      "cell_type": "markdown",
      "metadata": {
        "id": "sqJtcNPRijTn"
      },
      "source": [
        "test acc 는 1 \n"
      ]
    },
    {
      "cell_type": "markdown",
      "metadata": {
        "id": "koy52RHVijTo"
      },
      "source": [
        "### "
      ]
    },
    {
      "cell_type": "markdown",
      "metadata": {
        "id": "Py6JU1yjijTo"
      },
      "source": [
        ""
      ]
    },
    {
      "cell_type": "markdown",
      "metadata": {
        "id": "gTQKypZLijTo"
      },
      "source": [
        ""
      ]
    }
  ],
  "metadata": {
    "kernelspec": {
      "display_name": "aiffel",
      "language": "python",
      "name": "aiffel"
    },
    "language_info": {
      "codemirror_mode": {
        "name": "ipython",
        "version": 3
      },
      "file_extension": ".py",
      "mimetype": "text/x-python",
      "name": "python",
      "nbconvert_exporter": "python",
      "pygments_lexer": "ipython3",
      "version": "3.7.6"
    },
    "colab": {
      "name": "EXPLORATION5. 인공지능과 가위바위보 하기.ipynb",
      "provenance": [],
      "collapsed_sections": [],
      "toc_visible": true,
      "include_colab_link": true
    }
  },
  "nbformat": 4,
  "nbformat_minor": 0
}