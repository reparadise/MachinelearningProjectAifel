{
  "nbformat": 4,
  "nbformat_minor": 0,
  "metadata": {
    "colab": {
      "name": "작사가AI.ipynb",
      "provenance": [],
      "collapsed_sections": [],
      "machine_shape": "hm",
      "authorship_tag": "ABX9TyPakZHR7B00aQkBDTuVZH1T",
      "include_colab_link": true
    },
    "kernelspec": {
      "name": "python3",
      "display_name": "Python 3"
    },
    "language_info": {
      "name": "python"
    },
    "accelerator": "GPU",
    "gpuClass": "standard"
  },
  "cells": [
    {
      "cell_type": "markdown",
      "metadata": {
        "id": "view-in-github",
        "colab_type": "text"
      },
      "source": [
        "<a href=\"https://colab.research.google.com/github/reparadise/MachinelearningProjectAifel/blob/main/%EC%9E%91%EC%82%AC%EA%B0%80AI.ipynb\" target=\"_parent\"><img src=\"https://colab.research.google.com/assets/colab-badge.svg\" alt=\"Open In Colab\"/></a>"
      ]
    },
    {
      "cell_type": "code",
      "source": [
        "from google.colab import drive\n",
        "drive.mount('/content/drive')"
      ],
      "metadata": {
        "colab": {
          "base_uri": "https://localhost:8080/"
        },
        "id": "V4mgRIebHoRk",
        "outputId": "6769b2be-fb71-4e00-850a-96087fc8491f"
      },
      "execution_count": 2,
      "outputs": [
        {
          "output_type": "stream",
          "name": "stdout",
          "text": [
            "Mounted at /content/drive\n"
          ]
        }
      ]
    },
    {
      "cell_type": "code",
      "source": [
        "import re\n",
        "import numpy as np\n",
        "import tensorflow as tf\n",
        "import os\n",
        "\n",
        "\n",
        "file_path = \"/content/drive/MyDrive/shakespeare (1).txt\"\n",
        "\n",
        "# 파일 열기\n",
        "with open(file_path, \"r\") as f:\n",
        "    raw_corpus = f.read().splitlines() # 텍스트를 라인 단위로 끊어서 list 형태로 읽어온다.\n",
        "\n",
        "print(raw_corpus[:9])\n"
      ],
      "metadata": {
        "colab": {
          "base_uri": "https://localhost:8080/"
        },
        "id": "iesfHbm4Hor-",
        "outputId": "bf894161-c4df-4e86-d0e3-e18bcb2ddac1"
      },
      "execution_count": 3,
      "outputs": [
        {
          "output_type": "stream",
          "name": "stdout",
          "text": [
            "['This is the 100th Etext file presented by Project Gutenberg, and', 'is presented in cooperation with World Library, Inc., from their', 'Library of the Future and Shakespeare CDROMS.  Project Gutenberg', 'often releases Etexts that are NOT placed in the Public Domain!!', '', 'Shakespeare', '', '*This Etext has certain copyright implications you should read!*', '']\n"
          ]
        }
      ]
    },
    {
      "cell_type": "code",
      "execution_count": 4,
      "metadata": {
        "id": "NI-bKSZ8_2Q6",
        "colab": {
          "base_uri": "https://localhost:8080/"
        },
        "outputId": "26cd168b-5116-4b52-efcf-3459b9fbcb2c"
      },
      "outputs": [
        {
          "output_type": "stream",
          "name": "stdout",
          "text": [
            "<start> this is sample sentence . <end>\n"
          ]
        }
      ],
      "source": [
        "# 입력된 문장을\n",
        "#     1. 소문자로 바꾸고, 양쪽 공백을 지웁니다\n",
        "#     2. 특수문자 양쪽에 공백을 넣고\n",
        "#     3. 여러개의 공백은 하나의 공백으로 바꿉니다\n",
        "#     4. a-zA-Z?.!,¿가 아닌 모든 문자를 하나의 공백으로 바꿉니다\n",
        "#     5. 다시 양쪽 공백을 지웁니다\n",
        "#     6. 문장 시작에는 <start>, 끝에는 <end>를 추가합니다\n",
        "# 이 순서로 처리해주면 문제가 되는 상황을 방지할 수 있겠네요!\n",
        "def preprocess_sentence(sentence):\n",
        "    sentence = sentence.lower().strip() # 1\n",
        "    sentence = re.sub(r\"([?.!,¿])\", r\" \\1 \", sentence) # 2\n",
        "    sentence = re.sub(r'[\" \"]+', \" \", sentence) # 3\n",
        "    sentence = re.sub(r\"[^a-zA-Z?.!,¿]+\", \" \", sentence) # 4\n",
        "    sentence = sentence.strip() # 5\n",
        "    sentence = '<start> ' + sentence + ' <end>' # 6\n",
        "    return sentence\n",
        "\n",
        "# 이 문장이 어떻게 필터링되는지 확인해 보세요.\n",
        "print(preprocess_sentence(\"This @_is ;;;sample        sentence.\"))"
      ]
    },
    {
      "cell_type": "code",
      "source": [
        "corpus = []\n",
        "\n",
        "# 모든 문장에 전처리 함수 적용\n",
        "for sentence in raw_corpus:\n",
        "    if len(sentence) == 0: continue\n",
        "    if sentence[-1] == \":\": continue\n",
        "\n",
        "    corpus.append(preprocess_sentence(sentence))\n",
        "\n",
        "corpus[:10]"
      ],
      "metadata": {
        "colab": {
          "base_uri": "https://localhost:8080/"
        },
        "id": "1foegn2RKYWI",
        "outputId": "1857a72c-5d33-4c40-a36f-2d8c2ba03fe7"
      },
      "execution_count": 5,
      "outputs": [
        {
          "output_type": "execute_result",
          "data": {
            "text/plain": [
              "['<start> this is the th etext file presented by project gutenberg , and <end>',\n",
              " '<start> is presented in cooperation with world library , inc . , from their <end>',\n",
              " '<start> library of the future and shakespeare cdroms . project gutenberg <end>',\n",
              " '<start> often releases etexts that are not placed in the public domain ! ! <end>',\n",
              " '<start> shakespeare <end>',\n",
              " '<start> this etext has certain copyright implications you should read ! <end>',\n",
              " '<start> this electronic version of the complete works of william <end>',\n",
              " '<start> shakespeare is copyright by world library , inc . , and is <end>',\n",
              " '<start> provided by project gutenberg etext of illinois benedictine college <end>',\n",
              " '<start> with permission . electronic and machine readable copies may be <end>']"
            ]
          },
          "metadata": {},
          "execution_count": 5
        }
      ]
    },
    {
      "cell_type": "code",
      "source": [
        "# 토큰화 할 때 텐서플로우의 Tokenizer와 pad_sequences를 사용합니다\n",
        "# 더 잘 알기 위해 아래 문서들을 참고하면 좋습니다\n",
        "# https://www.tensorflow.org/api_docs/python/tf/keras/preprocessing/text/Tokenizer\n",
        "# https://www.tensorflow.org/api_docs/python/tf/keras/preprocessing/sequence/pad_sequences\n",
        "def tokenize(corpus):\n",
        "    # 7000단어를 기억할 수 있는 tokenizer를 만들겁니다\n",
        "    # 우리는 이미 문장을 정제했으니 filters가 필요없어요\n",
        "    # 7000단어에 포함되지 못한 단어는 '<unk>'로 바꿀거에요\n",
        "    tokenizer = tf.keras.preprocessing.text.Tokenizer(\n",
        "        num_words=7000, \n",
        "        filters=' ',\n",
        "        oov_token=\"<unk>\"\n",
        "    )\n",
        "    # corpus를 이용해 tokenizer 내부의 단어장을 완성합니다\n",
        "    tokenizer.fit_on_texts(corpus)\n",
        "    # 준비한 tokenizer를 이용해 corpus를 Tensor로 변환합니다\n",
        "    tensor = tokenizer.texts_to_sequences(corpus)   \n",
        "    # 입력 데이터의 시퀀스 길이를 일정하게 맞춰줍니다\n",
        "    # 만약 시퀀스가 짧다면 문장 뒤에 패딩을 붙여 길이를 맞춰줍니다.\n",
        "    # 문장 앞에 패딩을 붙여 길이를 맞추고 싶다면 padding='pre'를 사용합니다\n",
        "    tensor = tf.keras.preprocessing.sequence.pad_sequences(tensor, padding='post')  \n",
        "    \n",
        "    print(tensor,tokenizer)\n",
        "    return tensor, tokenizer\n",
        "\n",
        "tensor, tokenizer = tokenize(corpus)"
      ],
      "metadata": {
        "id": "DqnPXNjwB6cC",
        "colab": {
          "base_uri": "https://localhost:8080/"
        },
        "outputId": "14f7f959-fc5c-422a-a11f-f34fdcae2511"
      },
      "execution_count": 6,
      "outputs": [
        {
          "output_type": "stream",
          "name": "stdout",
          "text": [
            "[[   2   29   17 ...    0    0    0]\n",
            " [   2   17 3771 ...    0    0    0]\n",
            " [   2  465   10 ...    0    0    0]\n",
            " ...\n",
            " [   2  498    5 ...    0    0    0]\n",
            " [   2  265   14 ...    0    0    0]\n",
            " [   2  317   10 ...    0    0    0]] <keras_preprocessing.text.Tokenizer object at 0x7fa974755290>\n"
          ]
        }
      ]
    },
    {
      "cell_type": "markdown",
      "source": [
        "단어 사전의 인덱스(idx) 출력"
      ],
      "metadata": {
        "id": "l4LMQwBEDBjp"
      }
    },
    {
      "cell_type": "code",
      "source": [
        "for idx in tokenizer.index_word:\n",
        "    print(idx, \":\", tokenizer.index_word[idx])\n",
        "\n",
        "    if idx >= 10: break"
      ],
      "metadata": {
        "id": "xU0qgELZB6fh",
        "colab": {
          "base_uri": "https://localhost:8080/"
        },
        "outputId": "9ab0327d-2625-43a9-d9c2-4a544046408b"
      },
      "execution_count": 7,
      "outputs": [
        {
          "output_type": "stream",
          "name": "stdout",
          "text": [
            "1 : <unk>\n",
            "2 : <start>\n",
            "3 : <end>\n",
            "4 : ,\n",
            "5 : .\n",
            "6 : the\n",
            "7 : and\n",
            "8 : i\n",
            "9 : to\n",
            "10 : of\n"
          ]
        }
      ]
    },
    {
      "cell_type": "code",
      "source": [
        "# tensor에서 마지막 토큰을 잘라내서 소스 문장을 생성합니다\n",
        "# 마지막 토큰은 <end>가 아니라 <pad>일 가능성이 높습니다.\n",
        "src_input = tensor[:, :-1]  \n",
        "# tensor에서 <start>를 잘라내서 타겟 문장을 생성합니다.\n",
        "tgt_input = tensor[:, 1:]    \n",
        "\n",
        "print(src_input[0])\n",
        "print(tgt_input[0])"
      ],
      "metadata": {
        "id": "D1F-9dgJHANu",
        "colab": {
          "base_uri": "https://localhost:8080/"
        },
        "outputId": "e963a443-225c-46f6-a242-496c5accb8c3"
      },
      "execution_count": 8,
      "outputs": [
        {
          "output_type": "stream",
          "name": "stdout",
          "text": [
            "[   2   29   17    6  117  427 3383 3771   39  425  456    4    7    3\n",
            "    0    0    0    0    0    0    0    0    0    0    0    0    0]\n",
            "[  29   17    6  117  427 3383 3771   39  425  456    4    7    3    0\n",
            "    0    0    0    0    0    0    0    0    0    0    0    0    0]\n"
          ]
        }
      ]
    },
    {
      "cell_type": "code",
      "source": [
        "BUFFER_SIZE = len(src_input)\n",
        "BATCH_SIZE = 256\n",
        "steps_per_epoch = len(src_input) // BATCH_SIZE\n",
        "\n",
        " # tokenizer가 구축한 단어사전 내 7000개와, 여기 포함되지 않은 0:<pad>를 포함하여 7001개\n",
        "VOCAB_SIZE = tokenizer.num_words + 1   \n",
        "\n",
        "# 준비한 데이터 소스로부터 데이터셋을 만듭니다\n",
        "# 데이터셋에 대해서는 아래 문서를 참고하세요\n",
        "# 자세히 알아둘수록 도움이 많이 되는 중요한 문서입니다\n",
        "# https://www.tensorflow.org/api_docs/python/tf/data/Dataset\n",
        "dataset = tf.data.Dataset.from_tensor_slices((src_input, tgt_input))\n",
        "dataset = dataset.shuffle(BUFFER_SIZE)\n",
        "dataset = dataset.batch(BATCH_SIZE, drop_remainder=True)\n",
        "dataset"
      ],
      "metadata": {
        "id": "Np6ICDVDEJja",
        "colab": {
          "base_uri": "https://localhost:8080/"
        },
        "outputId": "786f7d04-d208-45ee-c7dc-f7900cc10890"
      },
      "execution_count": 9,
      "outputs": [
        {
          "output_type": "execute_result",
          "data": {
            "text/plain": [
              "<BatchDataset element_spec=(TensorSpec(shape=(256, 27), dtype=tf.int32, name=None), TensorSpec(shape=(256, 27), dtype=tf.int32, name=None))>"
            ]
          },
          "metadata": {},
          "execution_count": 9
        }
      ]
    },
    {
      "cell_type": "code",
      "source": [
        "class TextGenerator(tf.keras.Model):\n",
        "    def __init__(self, vocab_size, embedding_size, hidden_size):\n",
        "        super().__init__()\n",
        "        \n",
        "        self.embedding = tf.keras.layers.Embedding(vocab_size, embedding_size)\n",
        "        self.rnn_1 = tf.keras.layers.LSTM(hidden_size, return_sequences=True)\n",
        "        self.rnn_2 = tf.keras.layers.LSTM(hidden_size, return_sequences=True)\n",
        "        self.linear = tf.keras.layers.Dense(vocab_size)\n",
        "        \n",
        "    def call(self, x):\n",
        "        out = self.embedding(x)\n",
        "        out = self.rnn_1(out)\n",
        "        out = self.rnn_2(out)\n",
        "        out = self.linear(out)\n",
        "        \n",
        "        return out\n",
        "    \n",
        "embedding_size = 256\n",
        "hidden_size = 1024\n",
        "model = TextGenerator(tokenizer.num_words + 1, embedding_size , hidden_size)"
      ],
      "metadata": {
        "id": "6TXrg8d3EJ41"
      },
      "execution_count": 10,
      "outputs": []
    },
    {
      "cell_type": "code",
      "source": [
        "# 모델의 데이터 확인\n",
        "for src_sample, tgt_sample in dataset.take(1): break\n",
        "model(src_sample)\n",
        "# 모델의 최종 출력 shape는 (256, 20, 7001)\n",
        "# 256은 batch_size, 20은 squence_length, 7001은 단어의 갯수(Dense Layer 출력 차원 수)"
      ],
      "metadata": {
        "colab": {
          "base_uri": "https://localhost:8080/"
        },
        "id": "jmc1a8UaFAO4",
        "outputId": "24acfe57-6356-4a23-b62b-5bd8f0baaac9"
      },
      "execution_count": 11,
      "outputs": [
        {
          "output_type": "execute_result",
          "data": {
            "text/plain": [
              "<tf.Tensor: shape=(256, 27, 7001), dtype=float32, numpy=\n",
              "array([[[-1.57204486e-04, -3.55278811e-04,  4.96712804e-04, ...,\n",
              "         -6.62425955e-05,  1.90058374e-04, -3.11080439e-05],\n",
              "        [-3.72758979e-04, -8.08644865e-04,  7.61247415e-04, ...,\n",
              "         -1.56980706e-04,  6.89714449e-04, -3.91661859e-04],\n",
              "        [-2.12946630e-04, -8.86179507e-04,  8.75313068e-04, ...,\n",
              "         -4.17742674e-04,  6.67281100e-04, -2.83382018e-04],\n",
              "        ...,\n",
              "        [-1.83429185e-03, -2.03509015e-04,  4.01927764e-03, ...,\n",
              "          4.25135164e-04,  6.99322030e-04,  2.26664310e-03],\n",
              "        [-1.87037652e-03, -1.78568152e-04,  4.04427387e-03, ...,\n",
              "          4.90154256e-04,  7.54226872e-04,  2.23689224e-03],\n",
              "        [-1.90062530e-03, -1.51533910e-04,  4.06415947e-03, ...,\n",
              "          5.49929973e-04,  8.01073737e-04,  2.20820005e-03]],\n",
              "\n",
              "       [[-1.57204486e-04, -3.55278811e-04,  4.96712804e-04, ...,\n",
              "         -6.62425955e-05,  1.90058374e-04, -3.11080439e-05],\n",
              "        [ 1.39627555e-05, -3.83083825e-04,  4.73946158e-04, ...,\n",
              "         -9.56570802e-05,  6.36061595e-05, -3.87701177e-04],\n",
              "        [ 1.21214071e-04, -1.68889892e-04,  1.96161927e-04, ...,\n",
              "         -1.20163349e-05, -5.99336017e-05, -3.21020081e-04],\n",
              "        ...,\n",
              "        [-1.76562567e-03, -1.93664499e-04,  3.99244484e-03, ...,\n",
              "          5.18206100e-04,  7.58301700e-04,  2.26728548e-03],\n",
              "        [-1.80991204e-03, -1.64693571e-04,  4.01763106e-03, ...,\n",
              "          5.74551406e-04,  8.00965354e-04,  2.23180186e-03],\n",
              "        [-1.84754131e-03, -1.34993257e-04,  4.03812947e-03, ...,\n",
              "          6.25413144e-04,  8.38302774e-04,  2.19955109e-03]],\n",
              "\n",
              "       [[-1.57204486e-04, -3.55278811e-04,  4.96712804e-04, ...,\n",
              "         -6.62425955e-05,  1.90058374e-04, -3.11080439e-05],\n",
              "        [-2.53915758e-04, -7.51249085e-04,  9.84531594e-04, ...,\n",
              "         -1.53701505e-04,  2.03845615e-04, -1.73631692e-04],\n",
              "        [-2.20337286e-04, -7.86817749e-04,  1.29873340e-03, ...,\n",
              "         -2.10397193e-04,  3.26936879e-06,  1.04645878e-05],\n",
              "        ...,\n",
              "        [-1.86916313e-03, -1.34264512e-04,  4.07071132e-03, ...,\n",
              "          6.00999861e-04,  8.05757998e-04,  2.18278682e-03],\n",
              "        [-1.89851061e-03, -1.04443789e-04,  4.08483529e-03, ...,\n",
              "          6.49578404e-04,  8.42943438e-04,  2.15642247e-03],\n",
              "        [-1.92322663e-03, -7.53043496e-05,  4.09575691e-03, ...,\n",
              "          6.92804344e-04,  8.75177211e-04,  2.13300646e-03]],\n",
              "\n",
              "       ...,\n",
              "\n",
              "       [[-1.57204486e-04, -3.55278811e-04,  4.96712804e-04, ...,\n",
              "         -6.62425955e-05,  1.90058374e-04, -3.11080439e-05],\n",
              "        [-2.27215962e-04, -3.04433488e-04,  5.67463459e-04, ...,\n",
              "         -2.20964648e-04,  1.94893670e-04, -1.73341410e-04],\n",
              "        [-3.58811638e-04, -6.46801433e-04,  7.56384281e-04, ...,\n",
              "         -1.22175959e-04,  1.21440120e-04, -1.79761220e-04],\n",
              "        ...,\n",
              "        [-1.35305617e-03, -3.67947418e-04,  3.51210800e-03, ...,\n",
              "          8.22919465e-05,  1.60827709e-04,  2.48400401e-03],\n",
              "        [-1.44031749e-03, -3.52320669e-04,  3.62868328e-03, ...,\n",
              "          1.52624125e-04,  2.67057098e-04,  2.44699139e-03],\n",
              "        [-1.51883427e-03, -3.31233721e-04,  3.72537738e-03, ...,\n",
              "          2.24241914e-04,  3.63821018e-04,  2.40708049e-03]],\n",
              "\n",
              "       [[-1.57204486e-04, -3.55278811e-04,  4.96712804e-04, ...,\n",
              "         -6.62425955e-05,  1.90058374e-04, -3.11080439e-05],\n",
              "        [-1.73542518e-04, -2.25306139e-04,  8.08495621e-04, ...,\n",
              "         -2.42068389e-04,  4.18768759e-04, -1.84507644e-05],\n",
              "        [-5.15653985e-04, -1.17348000e-05,  7.12040754e-04, ...,\n",
              "         -1.85402227e-04,  2.30049613e-04, -4.21434117e-04],\n",
              "        ...,\n",
              "        [-1.55356957e-03, -4.23177757e-04,  3.08339833e-03, ...,\n",
              "          5.63634967e-05, -1.23336606e-04,  2.50102114e-03],\n",
              "        [-1.61945680e-03, -4.06235456e-04,  3.25656566e-03, ...,\n",
              "          7.74378786e-05,  9.65098479e-06,  2.48899194e-03],\n",
              "        [-1.67962769e-03, -3.87743406e-04,  3.40278749e-03, ...,\n",
              "          1.13361493e-04,  1.33376248e-04,  2.46366253e-03]],\n",
              "\n",
              "       [[-1.57204486e-04, -3.55278811e-04,  4.96712804e-04, ...,\n",
              "         -6.62425955e-05,  1.90058374e-04, -3.11080439e-05],\n",
              "        [ 1.62694545e-04, -8.57576146e-04,  7.04342907e-04, ...,\n",
              "         -8.25687894e-05,  2.66297167e-04, -1.73568230e-06],\n",
              "        [ 4.61657532e-04, -1.04958040e-03,  8.10972764e-04, ...,\n",
              "         -2.25208772e-04,  3.63439787e-04,  4.38845891e-05],\n",
              "        ...,\n",
              "        [-1.07690750e-03, -1.61579926e-04,  3.60242417e-03, ...,\n",
              "         -9.27935398e-05, -2.06768920e-04,  2.53177597e-03],\n",
              "        [-1.18090818e-03, -1.99915215e-04,  3.71893798e-03, ...,\n",
              "         -2.99603998e-05, -6.76591808e-05,  2.51678517e-03],\n",
              "        [-1.27840193e-03, -2.23791722e-04,  3.81423836e-03, ...,\n",
              "          4.19927565e-05,  6.29938731e-05,  2.48968834e-03]]],\n",
              "      dtype=float32)>"
            ]
          },
          "metadata": {},
          "execution_count": 11
        }
      ]
    },
    {
      "cell_type": "code",
      "source": [
        "# 모델 학습\n",
        "optimizer = tf.keras.optimizers.Adam()\n",
        "loss = \n",
        "(\n",
        "    from_logits=True,\n",
        "    reduction='none'\n",
        ")\n",
        "\n",
        "model.compile(loss=loss, optimizer=optimizer)\n",
        "model.fit(dataset, epochs=30)"
      ],
      "metadata": {
        "colab": {
          "base_uri": "https://localhost:8080/"
        },
        "id": "q4RgeOL7F_VO",
        "outputId": "bc094f16-16d6-4743-ebba-b53962530d9c"
      },
      "execution_count": 12,
      "outputs": [
        {
          "output_type": "stream",
          "name": "stdout",
          "text": [
            "Epoch 1/30\n",
            "445/445 [==============================] - 64s 135ms/step - loss: 2.3021\n",
            "Epoch 2/30\n",
            "445/445 [==============================] - 60s 135ms/step - loss: 1.9490\n",
            "Epoch 3/30\n",
            "445/445 [==============================] - 60s 135ms/step - loss: 1.8358\n",
            "Epoch 4/30\n",
            "445/445 [==============================] - 60s 135ms/step - loss: 1.7686\n",
            "Epoch 5/30\n",
            "445/445 [==============================] - 60s 135ms/step - loss: 1.7198\n",
            "Epoch 6/30\n",
            "445/445 [==============================] - 60s 135ms/step - loss: 1.6788\n",
            "Epoch 7/30\n",
            "445/445 [==============================] - 60s 135ms/step - loss: 1.6428\n",
            "Epoch 8/30\n",
            "445/445 [==============================] - 60s 135ms/step - loss: 1.6091\n",
            "Epoch 9/30\n",
            "445/445 [==============================] - 60s 135ms/step - loss: 1.5769\n",
            "Epoch 10/30\n",
            "445/445 [==============================] - 60s 135ms/step - loss: 1.5458\n",
            "Epoch 11/30\n",
            "445/445 [==============================] - 60s 135ms/step - loss: 1.5151\n",
            "Epoch 12/30\n",
            "445/445 [==============================] - 60s 135ms/step - loss: 1.4840\n",
            "Epoch 13/30\n",
            "445/445 [==============================] - 60s 135ms/step - loss: 1.4528\n",
            "Epoch 14/30\n",
            "445/445 [==============================] - 60s 135ms/step - loss: 1.4206\n",
            "Epoch 15/30\n",
            "445/445 [==============================] - 60s 135ms/step - loss: 1.3878\n",
            "Epoch 16/30\n",
            "445/445 [==============================] - 60s 135ms/step - loss: 1.3541\n",
            "Epoch 17/30\n",
            "445/445 [==============================] - 60s 135ms/step - loss: 1.3193\n",
            "Epoch 18/30\n",
            "445/445 [==============================] - 60s 135ms/step - loss: 1.2832\n",
            "Epoch 19/30\n",
            "445/445 [==============================] - 60s 135ms/step - loss: 1.2462\n",
            "Epoch 20/30\n",
            "445/445 [==============================] - 60s 135ms/step - loss: 1.2081\n",
            "Epoch 21/30\n",
            "445/445 [==============================] - 60s 135ms/step - loss: 1.1690\n",
            "Epoch 22/30\n",
            "445/445 [==============================] - 60s 135ms/step - loss: 1.1298\n",
            "Epoch 23/30\n",
            "445/445 [==============================] - 60s 135ms/step - loss: 1.0906\n",
            "Epoch 24/30\n",
            "445/445 [==============================] - 60s 135ms/step - loss: 1.0515\n",
            "Epoch 25/30\n",
            "445/445 [==============================] - 60s 135ms/step - loss: 1.0128\n",
            "Epoch 26/30\n",
            "445/445 [==============================] - 60s 135ms/step - loss: 0.9752\n",
            "Epoch 27/30\n",
            "445/445 [==============================] - 60s 135ms/step - loss: 0.9384\n",
            "Epoch 28/30\n",
            "445/445 [==============================] - 60s 135ms/step - loss: 0.9033\n",
            "Epoch 29/30\n",
            "445/445 [==============================] - 60s 135ms/step - loss: 0.8693\n",
            "Epoch 30/30\n",
            "445/445 [==============================] - 60s 135ms/step - loss: 0.8368\n"
          ]
        },
        {
          "output_type": "execute_result",
          "data": {
            "text/plain": [
              "<keras.callbacks.History at 0x7fa973aa3350>"
            ]
          },
          "metadata": {},
          "execution_count": 12
        }
      ]
    },
    {
      "cell_type": "code",
      "source": [
        "model.summary()"
      ],
      "metadata": {
        "id": "aLISGpVSXodb",
        "colab": {
          "base_uri": "https://localhost:8080/"
        },
        "outputId": "63e9ef74-81db-40fd-9c56-cc6d6810d65c"
      },
      "execution_count": 13,
      "outputs": [
        {
          "output_type": "stream",
          "name": "stdout",
          "text": [
            "Model: \"text_generator\"\n",
            "_________________________________________________________________\n",
            " Layer (type)                Output Shape              Param #   \n",
            "=================================================================\n",
            " embedding (Embedding)       multiple                  1792256   \n",
            "                                                                 \n",
            " lstm (LSTM)                 multiple                  5246976   \n",
            "                                                                 \n",
            " lstm_1 (LSTM)               multiple                  8392704   \n",
            "                                                                 \n",
            " dense (Dense)               multiple                  7176025   \n",
            "                                                                 \n",
            "=================================================================\n",
            "Total params: 22,607,961\n",
            "Trainable params: 22,607,961\n",
            "Non-trainable params: 0\n",
            "_________________________________________________________________\n"
          ]
        }
      ]
    },
    {
      "cell_type": "code",
      "source": [
        "# 문장 생성 함수\n",
        "def generate_text(model, tokenizer, init_sentence=\"<start>\", max_len=20):\n",
        "    # 테스트를 위해서 입력받은 init_sentence도 텐서로 변환\n",
        "    test_input = tokenizer.texts_to_sequences([init_sentence])\n",
        "    test_tensor = tf.convert_to_tensor(test_input, dtype=tf.int64)\n",
        "    end_token = tokenizer.word_index[\"<end>\"]\n",
        "\n",
        "    # 단어를 하나씩 생성\n",
        "    while True:\n",
        "        predict = model(test_tensor)  # 입력받은 문장\n",
        "        predict_word = tf.argmax(tf.nn.softmax(predict, axis=-1), axis=-1)[:, -1]   # 예측한 단어가 새로 생성된 단어 \n",
        "\n",
        "        # 우리 모델이 새롭게 예측한 단어를 입력 문장의 뒤에 붙이기\n",
        "        test_tensor = tf.concat([test_tensor, \n",
        "                                                                 tf.expand_dims(predict_word, axis=0)], axis=-1)\n",
        "\n",
        "        # 우리 모델이 <end>를 예측했거나, max_len에 도달하지 않았다면  while 루프를 또 돌면서 다음 단어를 예측\n",
        "        if predict_word.numpy()[0] == end_token: break\n",
        "        if test_tensor.shape[1] >= max_len: break\n",
        "\n",
        "    generated = \"\"\n",
        "    # 생성된 tensor 안에 있는 word index를 tokenizer.index_word 사전을 통해 실제 단어로 하나씩 변환\n",
        "    for word_index in test_tensor[0].numpy():\n",
        "        generated += tokenizer.index_word[word_index] + \" \"\n",
        "\n",
        "    return generated   # 최종 생성된 자연어 문장\n",
        "\n",
        "# 생성 함수 실행\n",
        "generate_text(model, tokenizer, init_sentence=\"<start> i love\")"
      ],
      "metadata": {
        "id": "Hpy8OaJ7XrPZ",
        "colab": {
          "base_uri": "https://localhost:8080/",
          "height": 36
        },
        "outputId": "9d843f4a-97ea-4848-cf69-f2dc02cd66b9"
      },
      "execution_count": 14,
      "outputs": [
        {
          "output_type": "execute_result",
          "data": {
            "text/plain": [
              "'<start> i love thee not , nor my <unk> so <end> '"
            ],
            "application/vnd.google.colaboratory.intrinsic+json": {
              "type": "string"
            }
          },
          "metadata": {},
          "execution_count": 14
        }
      ]
    },
    {
      "cell_type": "code",
      "source": [
        ""
      ],
      "metadata": {
        "id": "TS8WNJ7vXrS2"
      },
      "execution_count": 13,
      "outputs": []
    },
    {
      "cell_type": "code",
      "source": [
        ""
      ],
      "metadata": {
        "id": "w0BxABAcXrWW"
      },
      "execution_count": 13,
      "outputs": []
    },
    {
      "cell_type": "code",
      "source": [
        ""
      ],
      "metadata": {
        "id": "lBiriNghXraT"
      },
      "execution_count": 13,
      "outputs": []
    },
    {
      "cell_type": "code",
      "source": [
        ""
      ],
      "metadata": {
        "id": "tY8fzMrAXrfW"
      },
      "execution_count": 13,
      "outputs": []
    }
  ]
}